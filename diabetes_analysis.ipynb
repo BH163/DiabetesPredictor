{
 "cells": [
  {
   "cell_type": "markdown",
   "metadata": {},
   "source": [
    "# Diabetes Predictor for Female Pima Native Americans"
   ]
  },
  {
   "cell_type": "markdown",
   "metadata": {},
   "source": [
    "## About \n",
    "### Context\n",
    "This dataset is originally from the National Institute of Diabetes and Digestive and Kidney Diseases. The objective is to predict based on diagnostic measurements whether a patient has diabetes.\n",
    "\n",
    "\n",
    "\n",
    "### Content\n",
    "\n",
    "Several constraints were placed on the selection of these instances from a larger database. In particular, all patients here are females at least 21 years old of Pima Indian heritage.\n",
    "\n",
    " -  Pregnancies: Number of times pregnant\n",
    " - Glucose: Plasma glucose concentration a 2 hours in an oral glucose tolerance test\n",
    " - BloodPressure: Diastolic blood pressure (mm Hg)\n",
    " - SkinThickness: Triceps skin fold thickness (mm)\n",
    " - Insulin: 2-Hour serum insulin (mu U/ml)\n",
    " - BMI: Body mass index (weight in kg/(height in m)^2)\n",
    " - DiabetesPedigreeFunction: Diabetes pedigree function\n",
    " - Age: Age (years)\n",
    " - Outcome: Class variable (0 or 1)\n",
    "\n",
    "\n",
    "### Sources\n",
    "(a) Original owners: National Institute of Diabetes and Digestive and\n",
    "Kidney Diseases\n",
    "(b) Donor of database: Vincent Sigillito (vgs@aplcen.apl.jhu.edu)\n",
    "Research Center, RMI Group Leader\n",
    "Applied Physics Laboratory\n",
    "The Johns Hopkins University\n",
    "Johns Hopkins Road\n",
    "Laurel, MD 20707\n",
    "(301) 953-6231\n",
    "(c) Date received: 9 May 1990\n",
    "\n",
    "Dataset and above \"About\" Section obtained from Mehmet Akturk @ https://www.kaggle.com/datasets/mathchi/diabetes-data-set\n"
   ]
  },
  {
   "cell_type": "markdown",
   "metadata": {},
   "source": [
    "# Importing Dataset and Preprocessing"
   ]
  },
  {
   "cell_type": "code",
   "execution_count": 2,
   "metadata": {},
   "outputs": [],
   "source": [
    "import pandas as pd\n",
    "import numpy as np\n",
    "import matplotlib.pyplot as plt\n",
    "import seaborn as sns\n",
    "from scipy import stats\n",
    "import sklearn\n",
    "from sklearn import preprocessing\n",
    "from sklearn.tree import DecisionTreeClassifier\n",
    "import sklearn.tree as tree\n",
    "from sklearn.model_selection import train_test_split\n",
    "from sklearn.linear_model import LogisticRegression\n",
    "from sklearn.metrics import confusion_matrix\n",
    "from sklearn import metrics\n",
    "from sklearn.ensemble import RandomForestClassifier\n",
    "import itertools\n"
   ]
  },
  {
   "cell_type": "code",
   "execution_count": 3,
   "metadata": {},
   "outputs": [],
   "source": [
    "# read csv file into a dataframe\n",
    "df = pd.read_csv(\"health_care_diabetes.csv\") "
   ]
  },
  {
   "cell_type": "code",
   "execution_count": 4,
   "metadata": {},
   "outputs": [
    {
     "data": {
      "text/html": [
       "<div>\n",
       "<style scoped>\n",
       "    .dataframe tbody tr th:only-of-type {\n",
       "        vertical-align: middle;\n",
       "    }\n",
       "\n",
       "    .dataframe tbody tr th {\n",
       "        vertical-align: top;\n",
       "    }\n",
       "\n",
       "    .dataframe thead th {\n",
       "        text-align: right;\n",
       "    }\n",
       "</style>\n",
       "<table border=\"1\" class=\"dataframe\">\n",
       "  <thead>\n",
       "    <tr style=\"text-align: right;\">\n",
       "      <th></th>\n",
       "      <th>Pregnancies</th>\n",
       "      <th>Glucose</th>\n",
       "      <th>BloodPressure</th>\n",
       "      <th>SkinThickness</th>\n",
       "      <th>Insulin</th>\n",
       "      <th>BMI</th>\n",
       "      <th>DiabetesPedigreeFunction</th>\n",
       "      <th>Age</th>\n",
       "      <th>Outcome</th>\n",
       "    </tr>\n",
       "  </thead>\n",
       "  <tbody>\n",
       "    <tr>\n",
       "      <th>0</th>\n",
       "      <td>6</td>\n",
       "      <td>148</td>\n",
       "      <td>72</td>\n",
       "      <td>35</td>\n",
       "      <td>0</td>\n",
       "      <td>33.6</td>\n",
       "      <td>0.627</td>\n",
       "      <td>50</td>\n",
       "      <td>1</td>\n",
       "    </tr>\n",
       "    <tr>\n",
       "      <th>1</th>\n",
       "      <td>1</td>\n",
       "      <td>85</td>\n",
       "      <td>66</td>\n",
       "      <td>29</td>\n",
       "      <td>0</td>\n",
       "      <td>26.6</td>\n",
       "      <td>0.351</td>\n",
       "      <td>31</td>\n",
       "      <td>0</td>\n",
       "    </tr>\n",
       "    <tr>\n",
       "      <th>2</th>\n",
       "      <td>8</td>\n",
       "      <td>183</td>\n",
       "      <td>64</td>\n",
       "      <td>0</td>\n",
       "      <td>0</td>\n",
       "      <td>23.3</td>\n",
       "      <td>0.672</td>\n",
       "      <td>32</td>\n",
       "      <td>1</td>\n",
       "    </tr>\n",
       "    <tr>\n",
       "      <th>3</th>\n",
       "      <td>1</td>\n",
       "      <td>89</td>\n",
       "      <td>66</td>\n",
       "      <td>23</td>\n",
       "      <td>94</td>\n",
       "      <td>28.1</td>\n",
       "      <td>0.167</td>\n",
       "      <td>21</td>\n",
       "      <td>0</td>\n",
       "    </tr>\n",
       "    <tr>\n",
       "      <th>4</th>\n",
       "      <td>0</td>\n",
       "      <td>137</td>\n",
       "      <td>40</td>\n",
       "      <td>35</td>\n",
       "      <td>168</td>\n",
       "      <td>43.1</td>\n",
       "      <td>2.288</td>\n",
       "      <td>33</td>\n",
       "      <td>1</td>\n",
       "    </tr>\n",
       "  </tbody>\n",
       "</table>\n",
       "</div>"
      ],
      "text/plain": [
       "   Pregnancies  Glucose  BloodPressure  SkinThickness  Insulin   BMI  \\\n",
       "0            6      148             72             35        0  33.6   \n",
       "1            1       85             66             29        0  26.6   \n",
       "2            8      183             64              0        0  23.3   \n",
       "3            1       89             66             23       94  28.1   \n",
       "4            0      137             40             35      168  43.1   \n",
       "\n",
       "   DiabetesPedigreeFunction  Age  Outcome  \n",
       "0                     0.627   50        1  \n",
       "1                     0.351   31        0  \n",
       "2                     0.672   32        1  \n",
       "3                     0.167   21        0  \n",
       "4                     2.288   33        1  "
      ]
     },
     "execution_count": 4,
     "metadata": {},
     "output_type": "execute_result"
    }
   ],
   "source": [
    "# view of dataframe\n",
    "df.head()"
   ]
  },
  {
   "cell_type": "code",
   "execution_count": 5,
   "metadata": {},
   "outputs": [
    {
     "data": {
      "text/plain": [
       "(768, 9)"
      ]
     },
     "execution_count": 5,
     "metadata": {},
     "output_type": "execute_result"
    }
   ],
   "source": [
    "# determine number of columns and row\n",
    "df.shape"
   ]
  },
  {
   "cell_type": "code",
   "execution_count": 6,
   "metadata": {},
   "outputs": [
    {
     "name": "stdout",
     "output_type": "stream",
     "text": [
      "<class 'pandas.core.frame.DataFrame'>\n",
      "RangeIndex: 768 entries, 0 to 767\n",
      "Data columns (total 9 columns):\n",
      " #   Column                    Non-Null Count  Dtype  \n",
      "---  ------                    --------------  -----  \n",
      " 0   Pregnancies               768 non-null    int64  \n",
      " 1   Glucose                   768 non-null    int64  \n",
      " 2   BloodPressure             768 non-null    int64  \n",
      " 3   SkinThickness             768 non-null    int64  \n",
      " 4   Insulin                   768 non-null    int64  \n",
      " 5   BMI                       768 non-null    float64\n",
      " 6   DiabetesPedigreeFunction  768 non-null    float64\n",
      " 7   Age                       768 non-null    int64  \n",
      " 8   Outcome                   768 non-null    int64  \n",
      "dtypes: float64(2), int64(7)\n",
      "memory usage: 54.1 KB\n"
     ]
    }
   ],
   "source": [
    "# Display data types for each column and any null counts\n",
    "df.info()"
   ]
  },
  {
   "cell_type": "code",
   "execution_count": 7,
   "metadata": {},
   "outputs": [
    {
     "data": {
      "text/plain": [
       "Pregnancies                 0\n",
       "Glucose                     0\n",
       "BloodPressure               0\n",
       "SkinThickness               0\n",
       "Insulin                     0\n",
       "BMI                         0\n",
       "DiabetesPedigreeFunction    0\n",
       "Age                         0\n",
       "Outcome                     0\n",
       "dtype: int64"
      ]
     },
     "execution_count": 7,
     "metadata": {},
     "output_type": "execute_result"
    }
   ],
   "source": [
    "# Confirming absence of null values\n",
    "df.isna().sum()\n"
   ]
  },
  {
   "cell_type": "code",
   "execution_count": 8,
   "metadata": {},
   "outputs": [
    {
     "data": {
      "text/plain": [
       "Pregnancies                 111\n",
       "Glucose                       5\n",
       "BloodPressure                35\n",
       "SkinThickness               227\n",
       "Insulin                     374\n",
       "BMI                          11\n",
       "DiabetesPedigreeFunction      0\n",
       "Age                           0\n",
       "Outcome                     500\n",
       "dtype: int64"
      ]
     },
     "execution_count": 8,
     "metadata": {},
     "output_type": "execute_result"
    }
   ],
   "source": [
    "# Here we determine the number of zeros per column which are likely to be placeholders for null values\n",
    "(df == 0).sum()\n"
   ]
  },
  {
   "cell_type": "code",
   "execution_count": 9,
   "metadata": {},
   "outputs": [],
   "source": [
    "# now we will replace these zeros in each column with the respective median value for that column\n",
    "medians = {}\n",
    "for column in df:\n",
    "  medians[column] = (df[column].median())\n",
    "# remove columns where zero value is appropriate\n",
    "del medians['Pregnancies']\n",
    "del medians['Outcome']\n",
    "for key in medians:\n",
    "  df[key].replace(to_replace=0, value= medians[key], inplace=True)\n"
   ]
  },
  {
   "cell_type": "markdown",
   "metadata": {},
   "source": [
    "The dataset is now imported and cleaned and we may begin to explore the dataset."
   ]
  },
  {
   "cell_type": "markdown",
   "metadata": {},
   "source": [
    "# Exploratory Data Analysis"
   ]
  },
  {
   "cell_type": "code",
   "execution_count": 10,
   "metadata": {},
   "outputs": [
    {
     "data": {
      "text/html": [
       "<div>\n",
       "<style scoped>\n",
       "    .dataframe tbody tr th:only-of-type {\n",
       "        vertical-align: middle;\n",
       "    }\n",
       "\n",
       "    .dataframe tbody tr th {\n",
       "        vertical-align: top;\n",
       "    }\n",
       "\n",
       "    .dataframe thead th {\n",
       "        text-align: right;\n",
       "    }\n",
       "</style>\n",
       "<table border=\"1\" class=\"dataframe\">\n",
       "  <thead>\n",
       "    <tr style=\"text-align: right;\">\n",
       "      <th></th>\n",
       "      <th>Pregnancies</th>\n",
       "      <th>Glucose</th>\n",
       "      <th>BloodPressure</th>\n",
       "      <th>SkinThickness</th>\n",
       "      <th>Insulin</th>\n",
       "      <th>BMI</th>\n",
       "      <th>DiabetesPedigreeFunction</th>\n",
       "      <th>Age</th>\n",
       "      <th>Outcome</th>\n",
       "    </tr>\n",
       "  </thead>\n",
       "  <tbody>\n",
       "    <tr>\n",
       "      <th>count</th>\n",
       "      <td>768.000000</td>\n",
       "      <td>768.000000</td>\n",
       "      <td>768.000000</td>\n",
       "      <td>768.000000</td>\n",
       "      <td>768.000000</td>\n",
       "      <td>768.000000</td>\n",
       "      <td>768.000000</td>\n",
       "      <td>768.000000</td>\n",
       "      <td>768.000000</td>\n",
       "    </tr>\n",
       "    <tr>\n",
       "      <th>mean</th>\n",
       "      <td>3.845052</td>\n",
       "      <td>121.656250</td>\n",
       "      <td>72.386719</td>\n",
       "      <td>27.334635</td>\n",
       "      <td>94.652344</td>\n",
       "      <td>32.450911</td>\n",
       "      <td>0.471876</td>\n",
       "      <td>33.240885</td>\n",
       "      <td>0.348958</td>\n",
       "    </tr>\n",
       "    <tr>\n",
       "      <th>std</th>\n",
       "      <td>3.369578</td>\n",
       "      <td>30.438286</td>\n",
       "      <td>12.096642</td>\n",
       "      <td>9.229014</td>\n",
       "      <td>105.547598</td>\n",
       "      <td>6.875366</td>\n",
       "      <td>0.331329</td>\n",
       "      <td>11.760232</td>\n",
       "      <td>0.476951</td>\n",
       "    </tr>\n",
       "    <tr>\n",
       "      <th>min</th>\n",
       "      <td>0.000000</td>\n",
       "      <td>44.000000</td>\n",
       "      <td>24.000000</td>\n",
       "      <td>7.000000</td>\n",
       "      <td>14.000000</td>\n",
       "      <td>18.200000</td>\n",
       "      <td>0.078000</td>\n",
       "      <td>21.000000</td>\n",
       "      <td>0.000000</td>\n",
       "    </tr>\n",
       "    <tr>\n",
       "      <th>25%</th>\n",
       "      <td>1.000000</td>\n",
       "      <td>99.750000</td>\n",
       "      <td>64.000000</td>\n",
       "      <td>23.000000</td>\n",
       "      <td>30.500000</td>\n",
       "      <td>27.500000</td>\n",
       "      <td>0.243750</td>\n",
       "      <td>24.000000</td>\n",
       "      <td>0.000000</td>\n",
       "    </tr>\n",
       "    <tr>\n",
       "      <th>50%</th>\n",
       "      <td>3.000000</td>\n",
       "      <td>117.000000</td>\n",
       "      <td>72.000000</td>\n",
       "      <td>23.000000</td>\n",
       "      <td>31.250000</td>\n",
       "      <td>32.000000</td>\n",
       "      <td>0.372500</td>\n",
       "      <td>29.000000</td>\n",
       "      <td>0.000000</td>\n",
       "    </tr>\n",
       "    <tr>\n",
       "      <th>75%</th>\n",
       "      <td>6.000000</td>\n",
       "      <td>140.250000</td>\n",
       "      <td>80.000000</td>\n",
       "      <td>32.000000</td>\n",
       "      <td>127.250000</td>\n",
       "      <td>36.600000</td>\n",
       "      <td>0.626250</td>\n",
       "      <td>41.000000</td>\n",
       "      <td>1.000000</td>\n",
       "    </tr>\n",
       "    <tr>\n",
       "      <th>max</th>\n",
       "      <td>17.000000</td>\n",
       "      <td>199.000000</td>\n",
       "      <td>122.000000</td>\n",
       "      <td>99.000000</td>\n",
       "      <td>846.000000</td>\n",
       "      <td>67.100000</td>\n",
       "      <td>2.420000</td>\n",
       "      <td>81.000000</td>\n",
       "      <td>1.000000</td>\n",
       "    </tr>\n",
       "  </tbody>\n",
       "</table>\n",
       "</div>"
      ],
      "text/plain": [
       "       Pregnancies     Glucose  BloodPressure  SkinThickness     Insulin  \\\n",
       "count   768.000000  768.000000     768.000000     768.000000  768.000000   \n",
       "mean      3.845052  121.656250      72.386719      27.334635   94.652344   \n",
       "std       3.369578   30.438286      12.096642       9.229014  105.547598   \n",
       "min       0.000000   44.000000      24.000000       7.000000   14.000000   \n",
       "25%       1.000000   99.750000      64.000000      23.000000   30.500000   \n",
       "50%       3.000000  117.000000      72.000000      23.000000   31.250000   \n",
       "75%       6.000000  140.250000      80.000000      32.000000  127.250000   \n",
       "max      17.000000  199.000000     122.000000      99.000000  846.000000   \n",
       "\n",
       "              BMI  DiabetesPedigreeFunction         Age     Outcome  \n",
       "count  768.000000                768.000000  768.000000  768.000000  \n",
       "mean    32.450911                  0.471876   33.240885    0.348958  \n",
       "std      6.875366                  0.331329   11.760232    0.476951  \n",
       "min     18.200000                  0.078000   21.000000    0.000000  \n",
       "25%     27.500000                  0.243750   24.000000    0.000000  \n",
       "50%     32.000000                  0.372500   29.000000    0.000000  \n",
       "75%     36.600000                  0.626250   41.000000    1.000000  \n",
       "max     67.100000                  2.420000   81.000000    1.000000  "
      ]
     },
     "execution_count": 10,
     "metadata": {},
     "output_type": "execute_result"
    }
   ],
   "source": [
    "df.describe()"
   ]
  },
  {
   "cell_type": "markdown",
   "metadata": {},
   "source": [
    "We will now visualize these statistics:"
   ]
  },
  {
   "cell_type": "code",
   "execution_count": 11,
   "metadata": {},
   "outputs": [
    {
     "data": {
      "text/plain": [
       "[Text(0.5, 1.0, 'Outcome')]"
      ]
     },
     "execution_count": 11,
     "metadata": {},
     "output_type": "execute_result"
    },
    {
     "data": {
      "image/png": "[encoded data removed]",
      "text/plain": [
       "<Figure size 1800x1000 with 9 Axes>"
      ]
     },
     "metadata": {},
     "output_type": "display_data"
    }
   ],
   "source": [
    "fig, axes = plt.subplots(3, 3, figsize=(18, 10))\n",
    " \n",
    "fig.suptitle('Histograms')\n",
    "\n",
    "sns.boxplot(ax=axes[0, 0], data=df['Pregnancies']).set(title='Pregnancies')\n",
    "sns.boxplot(ax=axes[0, 1], data=df['Glucose']).set(title='Glucose')\n",
    "sns.boxplot(ax=axes[0, 2], data=df['BloodPressure']).set(title='BloodPressure')\n",
    "sns.boxplot(ax=axes[1, 0], data=df['SkinThickness']).set(title='SkinThickness')\n",
    "sns.boxplot(ax=axes[1, 1], data=df['Insulin']).set(title='Insulin')\n",
    "sns.boxplot(ax=axes[1, 2], data=df['BMI']).set(title='BMI')\n",
    "sns.boxplot(ax=axes[2, 0], data=df['DiabetesPedigreeFunction']).set(title='DiabetesPedigreeFunction')\n",
    "sns.boxplot(ax=axes[2, 1], data=df['Age']).set(title='Age')\n",
    "sns.boxplot(ax=axes[2, 2], data=df['Outcome']).set(title='Outcome')"
   ]
  },
  {
   "cell_type": "markdown",
   "metadata": {},
   "source": [
    "From the boxplots we can see that the Insulin, Skin-Thicknes, BMI, and Diabetes-Pedigree-Function variables have a particularly high number of outliers. From here, we will view the distribution of the insulin levels data, as well as take a more in-depth look at insulin and its various relationships. "
   ]
  },
  {
   "cell_type": "code",
   "execution_count": 12,
   "metadata": {},
   "outputs": [
    {
     "data": {
      "text/plain": [
       "<AxesSubplot:xlabel='Insulin', ylabel='Count'>"
      ]
     },
     "execution_count": 12,
     "metadata": {},
     "output_type": "execute_result"
    },
    {
     "data": {
      "image/png": "[encoded data removed]",
      "text/plain": [
       "<Figure size 640x480 with 1 Axes>"
      ]
     },
     "metadata": {},
     "output_type": "display_data"
    }
   ],
   "source": [
    "sns.histplot(data=df['Insulin'])"
   ]
  },
  {
   "cell_type": "markdown",
   "metadata": {},
   "source": [
    "As seen above and also in the boxplot for insulin, there are a large number of outliers. From the above histogram we can see that most insulin levels fall below 200. A normal insulin level 2 hours post-prandial is noted as 16 - 166 mIU/L \n",
    "\n",
    "(https://emedicine.medscape.com/article/2089224-overview?form=fpf). \n",
    "\n",
    "We will now look at a correlation table for all of the variables:"
   ]
  },
  {
   "cell_type": "code",
   "execution_count": 13,
   "metadata": {},
   "outputs": [
    {
     "data": {
      "text/html": [
       "<div>\n",
       "<style scoped>\n",
       "    .dataframe tbody tr th:only-of-type {\n",
       "        vertical-align: middle;\n",
       "    }\n",
       "\n",
       "    .dataframe tbody tr th {\n",
       "        vertical-align: top;\n",
       "    }\n",
       "\n",
       "    .dataframe thead th {\n",
       "        text-align: right;\n",
       "    }\n",
       "</style>\n",
       "<table border=\"1\" class=\"dataframe\">\n",
       "  <thead>\n",
       "    <tr style=\"text-align: right;\">\n",
       "      <th></th>\n",
       "      <th>Pregnancies</th>\n",
       "      <th>Glucose</th>\n",
       "      <th>BloodPressure</th>\n",
       "      <th>SkinThickness</th>\n",
       "      <th>Insulin</th>\n",
       "      <th>BMI</th>\n",
       "      <th>DiabetesPedigreeFunction</th>\n",
       "      <th>Age</th>\n",
       "      <th>Outcome</th>\n",
       "    </tr>\n",
       "  </thead>\n",
       "  <tbody>\n",
       "    <tr>\n",
       "      <th>Pregnancies</th>\n",
       "      <td>1.000000</td>\n",
       "      <td>0.128213</td>\n",
       "      <td>0.208615</td>\n",
       "      <td>0.032568</td>\n",
       "      <td>-0.055697</td>\n",
       "      <td>0.021546</td>\n",
       "      <td>-0.033523</td>\n",
       "      <td>0.544341</td>\n",
       "      <td>0.221898</td>\n",
       "    </tr>\n",
       "    <tr>\n",
       "      <th>Glucose</th>\n",
       "      <td>0.128213</td>\n",
       "      <td>1.000000</td>\n",
       "      <td>0.218937</td>\n",
       "      <td>0.172143</td>\n",
       "      <td>0.357573</td>\n",
       "      <td>0.231400</td>\n",
       "      <td>0.137327</td>\n",
       "      <td>0.266909</td>\n",
       "      <td>0.492782</td>\n",
       "    </tr>\n",
       "    <tr>\n",
       "      <th>BloodPressure</th>\n",
       "      <td>0.208615</td>\n",
       "      <td>0.218937</td>\n",
       "      <td>1.000000</td>\n",
       "      <td>0.147809</td>\n",
       "      <td>-0.028721</td>\n",
       "      <td>0.281132</td>\n",
       "      <td>-0.002378</td>\n",
       "      <td>0.324915</td>\n",
       "      <td>0.165723</td>\n",
       "    </tr>\n",
       "    <tr>\n",
       "      <th>SkinThickness</th>\n",
       "      <td>0.032568</td>\n",
       "      <td>0.172143</td>\n",
       "      <td>0.147809</td>\n",
       "      <td>1.000000</td>\n",
       "      <td>0.238188</td>\n",
       "      <td>0.546951</td>\n",
       "      <td>0.142977</td>\n",
       "      <td>0.054514</td>\n",
       "      <td>0.189065</td>\n",
       "    </tr>\n",
       "    <tr>\n",
       "      <th>Insulin</th>\n",
       "      <td>-0.055697</td>\n",
       "      <td>0.357573</td>\n",
       "      <td>-0.028721</td>\n",
       "      <td>0.238188</td>\n",
       "      <td>1.000000</td>\n",
       "      <td>0.189022</td>\n",
       "      <td>0.178029</td>\n",
       "      <td>-0.015413</td>\n",
       "      <td>0.148457</td>\n",
       "    </tr>\n",
       "    <tr>\n",
       "      <th>BMI</th>\n",
       "      <td>0.021546</td>\n",
       "      <td>0.231400</td>\n",
       "      <td>0.281132</td>\n",
       "      <td>0.546951</td>\n",
       "      <td>0.189022</td>\n",
       "      <td>1.000000</td>\n",
       "      <td>0.153506</td>\n",
       "      <td>0.025744</td>\n",
       "      <td>0.312249</td>\n",
       "    </tr>\n",
       "    <tr>\n",
       "      <th>DiabetesPedigreeFunction</th>\n",
       "      <td>-0.033523</td>\n",
       "      <td>0.137327</td>\n",
       "      <td>-0.002378</td>\n",
       "      <td>0.142977</td>\n",
       "      <td>0.178029</td>\n",
       "      <td>0.153506</td>\n",
       "      <td>1.000000</td>\n",
       "      <td>0.033561</td>\n",
       "      <td>0.173844</td>\n",
       "    </tr>\n",
       "    <tr>\n",
       "      <th>Age</th>\n",
       "      <td>0.544341</td>\n",
       "      <td>0.266909</td>\n",
       "      <td>0.324915</td>\n",
       "      <td>0.054514</td>\n",
       "      <td>-0.015413</td>\n",
       "      <td>0.025744</td>\n",
       "      <td>0.033561</td>\n",
       "      <td>1.000000</td>\n",
       "      <td>0.238356</td>\n",
       "    </tr>\n",
       "    <tr>\n",
       "      <th>Outcome</th>\n",
       "      <td>0.221898</td>\n",
       "      <td>0.492782</td>\n",
       "      <td>0.165723</td>\n",
       "      <td>0.189065</td>\n",
       "      <td>0.148457</td>\n",
       "      <td>0.312249</td>\n",
       "      <td>0.173844</td>\n",
       "      <td>0.238356</td>\n",
       "      <td>1.000000</td>\n",
       "    </tr>\n",
       "  </tbody>\n",
       "</table>\n",
       "</div>"
      ],
      "text/plain": [
       "                          Pregnancies   Glucose  BloodPressure  SkinThickness  \\\n",
       "Pregnancies                  1.000000  0.128213       0.208615       0.032568   \n",
       "Glucose                      0.128213  1.000000       0.218937       0.172143   \n",
       "BloodPressure                0.208615  0.218937       1.000000       0.147809   \n",
       "SkinThickness                0.032568  0.172143       0.147809       1.000000   \n",
       "Insulin                     -0.055697  0.357573      -0.028721       0.238188   \n",
       "BMI                          0.021546  0.231400       0.281132       0.546951   \n",
       "DiabetesPedigreeFunction    -0.033523  0.137327      -0.002378       0.142977   \n",
       "Age                          0.544341  0.266909       0.324915       0.054514   \n",
       "Outcome                      0.221898  0.492782       0.165723       0.189065   \n",
       "\n",
       "                           Insulin       BMI  DiabetesPedigreeFunction  \\\n",
       "Pregnancies              -0.055697  0.021546                 -0.033523   \n",
       "Glucose                   0.357573  0.231400                  0.137327   \n",
       "BloodPressure            -0.028721  0.281132                 -0.002378   \n",
       "SkinThickness             0.238188  0.546951                  0.142977   \n",
       "Insulin                   1.000000  0.189022                  0.178029   \n",
       "BMI                       0.189022  1.000000                  0.153506   \n",
       "DiabetesPedigreeFunction  0.178029  0.153506                  1.000000   \n",
       "Age                      -0.015413  0.025744                  0.033561   \n",
       "Outcome                   0.148457  0.312249                  0.173844   \n",
       "\n",
       "                               Age   Outcome  \n",
       "Pregnancies               0.544341  0.221898  \n",
       "Glucose                   0.266909  0.492782  \n",
       "BloodPressure             0.324915  0.165723  \n",
       "SkinThickness             0.054514  0.189065  \n",
       "Insulin                  -0.015413  0.148457  \n",
       "BMI                       0.025744  0.312249  \n",
       "DiabetesPedigreeFunction  0.033561  0.173844  \n",
       "Age                       1.000000  0.238356  \n",
       "Outcome                   0.238356  1.000000  "
      ]
     },
     "execution_count": 13,
     "metadata": {},
     "output_type": "execute_result"
    }
   ],
   "source": [
    "df.corr()"
   ]
  },
  {
   "cell_type": "markdown",
   "metadata": {},
   "source": [
    "Insulin appears to be most strongly correlated with glucose levels and glucose levels appear to have the highest correlation with our target variable. As such, we will now take a closer look at our glucose variable and the relationship between glucose, insulin, and our target feature."
   ]
  },
  {
   "cell_type": "code",
   "execution_count": 15,
   "metadata": {},
   "outputs": [
    {
     "data": {
      "text/plain": [
       "<AxesSubplot:xlabel='Glucose', ylabel='Count'>"
      ]
     },
     "execution_count": 15,
     "metadata": {},
     "output_type": "execute_result"
    },
    {
     "data": {
      "image/png": "[encoded data removed]",
      "text/plain": [
       "<Figure size 640x480 with 1 Axes>"
      ]
     },
     "metadata": {},
     "output_type": "display_data"
    }
   ],
   "source": [
    "sns.histplot(data=df['Glucose'])"
   ]
  },
  {
   "cell_type": "code",
   "execution_count": 16,
   "metadata": {},
   "outputs": [
    {
     "data": {
      "text/plain": [
       "<AxesSubplot:xlabel='Glucose', ylabel='Insulin'>"
      ]
     },
     "execution_count": 16,
     "metadata": {},
     "output_type": "execute_result"
    },
    {
     "data": {
      "image/png": "[encoded data removed]",
      "text/plain": [
       "<Figure size 640x480 with 1 Axes>"
      ]
     },
     "metadata": {},
     "output_type": "display_data"
    }
   ],
   "source": [
    "sns.regplot(x=df['Glucose'], y=df['Insulin']) \n"
   ]
  },
  {
   "cell_type": "markdown",
   "metadata": {},
   "source": [
    "We will now see which of the variables hold statistical signifigance with respect to our target variable."
   ]
  },
  {
   "cell_type": "code",
   "execution_count": 17,
   "metadata": {},
   "outputs": [],
   "source": [
    "pearson = {}\n",
    "for variable in df.columns:\n",
    "    signifigant = False\n",
    "    pearCoef, pVal = stats.pearsonr(df[variable], df['Outcome'])\n",
    "    if pVal < .001:\n",
    "        signifigant = True\n",
    "    pearson[variable] = (pearCoef, pVal, signifigant)\n",
    "stats_df = pd.DataFrame(pearson).transpose()\n",
    "stats_df.columns = ['Correlation Coef','P-Value', 'Signifigant']\n"
   ]
  },
  {
   "cell_type": "code",
   "execution_count": 18,
   "metadata": {},
   "outputs": [
    {
     "data": {
      "text/html": [
       "<div>\n",
       "<style scoped>\n",
       "    .dataframe tbody tr th:only-of-type {\n",
       "        vertical-align: middle;\n",
       "    }\n",
       "\n",
       "    .dataframe tbody tr th {\n",
       "        vertical-align: top;\n",
       "    }\n",
       "\n",
       "    .dataframe thead th {\n",
       "        text-align: right;\n",
       "    }\n",
       "</style>\n",
       "<table border=\"1\" class=\"dataframe\">\n",
       "  <thead>\n",
       "    <tr style=\"text-align: right;\">\n",
       "      <th></th>\n",
       "      <th>Correlation Coef</th>\n",
       "      <th>P-Value</th>\n",
       "      <th>Signifigant</th>\n",
       "    </tr>\n",
       "  </thead>\n",
       "  <tbody>\n",
       "    <tr>\n",
       "      <th>Pregnancies</th>\n",
       "      <td>0.221898</td>\n",
       "      <td>0.0</td>\n",
       "      <td>True</td>\n",
       "    </tr>\n",
       "    <tr>\n",
       "      <th>Glucose</th>\n",
       "      <td>0.492782</td>\n",
       "      <td>0.0</td>\n",
       "      <td>True</td>\n",
       "    </tr>\n",
       "    <tr>\n",
       "      <th>BloodPressure</th>\n",
       "      <td>0.165723</td>\n",
       "      <td>0.000004</td>\n",
       "      <td>True</td>\n",
       "    </tr>\n",
       "    <tr>\n",
       "      <th>SkinThickness</th>\n",
       "      <td>0.189065</td>\n",
       "      <td>0.0</td>\n",
       "      <td>True</td>\n",
       "    </tr>\n",
       "    <tr>\n",
       "      <th>Insulin</th>\n",
       "      <td>0.148457</td>\n",
       "      <td>0.000036</td>\n",
       "      <td>True</td>\n",
       "    </tr>\n",
       "    <tr>\n",
       "      <th>BMI</th>\n",
       "      <td>0.312249</td>\n",
       "      <td>0.0</td>\n",
       "      <td>True</td>\n",
       "    </tr>\n",
       "    <tr>\n",
       "      <th>DiabetesPedigreeFunction</th>\n",
       "      <td>0.173844</td>\n",
       "      <td>0.000001</td>\n",
       "      <td>True</td>\n",
       "    </tr>\n",
       "    <tr>\n",
       "      <th>Age</th>\n",
       "      <td>0.238356</td>\n",
       "      <td>0.0</td>\n",
       "      <td>True</td>\n",
       "    </tr>\n",
       "    <tr>\n",
       "      <th>Outcome</th>\n",
       "      <td>1.0</td>\n",
       "      <td>0.0</td>\n",
       "      <td>True</td>\n",
       "    </tr>\n",
       "  </tbody>\n",
       "</table>\n",
       "</div>"
      ],
      "text/plain": [
       "                         Correlation Coef   P-Value Signifigant\n",
       "Pregnancies                      0.221898       0.0        True\n",
       "Glucose                          0.492782       0.0        True\n",
       "BloodPressure                    0.165723  0.000004        True\n",
       "SkinThickness                    0.189065       0.0        True\n",
       "Insulin                          0.148457  0.000036        True\n",
       "BMI                              0.312249       0.0        True\n",
       "DiabetesPedigreeFunction         0.173844  0.000001        True\n",
       "Age                              0.238356       0.0        True\n",
       "Outcome                               1.0       0.0        True"
      ]
     },
     "execution_count": 18,
     "metadata": {},
     "output_type": "execute_result"
    }
   ],
   "source": [
    "stats_df"
   ]
  },
  {
   "cell_type": "markdown",
   "metadata": {},
   "source": [
    "We can see that based on P-Values, all of our variables are statistically significant when determining the outcome variable. Additionally, all our variables are positively associated with our target."
   ]
  },
  {
   "cell_type": "markdown",
   "metadata": {},
   "source": [
    "# Developing A Model For Classification"
   ]
  },
  {
   "cell_type": "markdown",
   "metadata": {},
   "source": [
    "### Decision Tree\n",
    "We will begin model development by creating a baseline decision tree:"
   ]
  },
  {
   "cell_type": "code",
   "execution_count": 19,
   "metadata": {},
   "outputs": [],
   "source": [
    "X = df[['Pregnancies', 'Glucose', 'BloodPressure', 'SkinThickness', 'Insulin', 'BMI', 'DiabetesPedigreeFunction', 'Age']].values\n",
    "y = df['Outcome']"
   ]
  },
  {
   "cell_type": "code",
   "execution_count": 20,
   "metadata": {},
   "outputs": [],
   "source": [
    "X_trainset, X_testset, y_trainset, y_testset = train_test_split(X, y, test_size=0.3, random_state=3)"
   ]
  },
  {
   "cell_type": "code",
   "execution_count": 21,
   "metadata": {},
   "outputs": [],
   "source": [
    "diabetesTree = DecisionTreeClassifier(criterion=\"entropy\", max_depth = 4)\n"
   ]
  },
  {
   "cell_type": "code",
   "execution_count": 22,
   "metadata": {},
   "outputs": [
    {
     "data": {
      "text/plain": [
       "DecisionTreeClassifier(criterion='entropy', max_depth=4)"
      ]
     },
     "execution_count": 22,
     "metadata": {},
     "output_type": "execute_result"
    }
   ],
   "source": [
    "diabetesTree.fit(X_trainset,y_trainset)"
   ]
  },
  {
   "cell_type": "code",
   "execution_count": 23,
   "metadata": {},
   "outputs": [],
   "source": [
    "predTree = diabetesTree.predict(X_testset)"
   ]
  },
  {
   "cell_type": "code",
   "execution_count": 24,
   "metadata": {},
   "outputs": [
    {
     "name": "stdout",
     "output_type": "stream",
     "text": [
      "DecisionTrees's Accuracy:  0.70995670995671\n"
     ]
    }
   ],
   "source": [
    "\n",
    "print(\"DecisionTrees's Accuracy: \", metrics.accuracy_score(y_testset, predTree))"
   ]
  },
  {
   "cell_type": "code",
   "execution_count": 25,
   "metadata": {},
   "outputs": [
    {
     "data": {
      "image/png": "[encoded data removed]",
      "text/plain": [
       "<Figure size 640x480 with 1 Axes>"
      ]
     },
     "metadata": {},
     "output_type": "display_data"
    }
   ],
   "source": [
    "tree.plot_tree(diabetesTree)\n",
    "plt.show()"
   ]
  },
  {
   "cell_type": "markdown",
   "metadata": {},
   "source": [
    "### Logistic Regression Model\n",
    "\n",
    "Now we will develop a baseline logistic regression model:"
   ]
  },
  {
   "cell_type": "code",
   "execution_count": 26,
   "metadata": {},
   "outputs": [],
   "source": [
    "X_trainset, X_testset, y_trainset, y_testset = train_test_split(X, y, test_size=0.3, random_state=3)"
   ]
  },
  {
   "cell_type": "code",
   "execution_count": 27,
   "metadata": {},
   "outputs": [],
   "source": [
    "# wheras with our decision tree we did not have to scale our data, here with logistic regression we must\n",
    "\n",
    "X = preprocessing.StandardScaler().fit(X).transform(X)\n",
    "X_trainset, X_testset, y_trainset, y_testset = train_test_split(X, y, test_size=0.3, random_state=3)"
   ]
  },
  {
   "cell_type": "code",
   "execution_count": 28,
   "metadata": {},
   "outputs": [],
   "source": [
    "LR = LogisticRegression(C=0.01, solver='liblinear').fit(X_trainset,y_trainset)\n"
   ]
  },
  {
   "cell_type": "code",
   "execution_count": 29,
   "metadata": {},
   "outputs": [],
   "source": [
    "yPredicted = LR.predict(X_testset)\n"
   ]
  },
  {
   "cell_type": "code",
   "execution_count": 30,
   "metadata": {},
   "outputs": [
    {
     "data": {
      "text/plain": [
       "0.7402597402597403"
      ]
     },
     "execution_count": 30,
     "metadata": {},
     "output_type": "execute_result"
    }
   ],
   "source": [
    "metrics.accuracy_score(y_testset, yPredicted)"
   ]
  },
  {
   "cell_type": "markdown",
   "metadata": {},
   "source": [
    "# Model Tuning and Refinement"
   ]
  },
  {
   "cell_type": "markdown",
   "metadata": {},
   "source": [
    "Now that we have developed our models, we can begin to refine them for better prediction accuracy."
   ]
  },
  {
   "cell_type": "markdown",
   "metadata": {},
   "source": [
    "### Decision Tree Tuning"
   ]
  },
  {
   "cell_type": "markdown",
   "metadata": {},
   "source": [
    "Currently, our accuracy score with the above decision tree is 0.7142857142857143. We will take two steps in an attempt to increase the decision tree's accuracy:\n",
    "1) Feature Selection\n",
    "2) Tree Depth Optimization"
   ]
  },
  {
   "cell_type": "markdown",
   "metadata": {},
   "source": [
    "#### Feature Selection- Brute Force Approach"
   ]
  },
  {
   "cell_type": "code",
   "execution_count": 31,
   "metadata": {},
   "outputs": [],
   "source": [
    "# creating a list of all possible combinations for all lengths\n",
    "variables = list(df.columns)\n",
    "variables.remove(\"Outcome\")\n",
    "allCombos = []\n",
    "for i in range(1,len(variables)+1):\n",
    "  allCombos.append(list(itertools.combinations(variables, i)))"
   ]
  },
  {
   "cell_type": "code",
   "execution_count": 32,
   "metadata": {},
   "outputs": [
    {
     "name": "stdout",
     "output_type": "stream",
     "text": [
      "Max Accuracy is:  0.7229437229437229 \n",
      "For DecisionTree with parameters:\n",
      "-   Pregnancies\n",
      "-   Glucose\n",
      "-   BloodPressure\n",
      "-   SkinThickness\n",
      "-   BMI\n"
     ]
    }
   ],
   "source": [
    "# testing all possible combinations to determine maximum accuracy\n",
    "maxAccuracy = 0\n",
    "d1 = {}\n",
    "for i in range(len(allCombos)):\n",
    "  for variablesL in allCombos[i]:\n",
    "    X = df[list(variablesL)]\n",
    "    y = df['Outcome']\n",
    "    X_trainset, X_testset, y_trainset, y_testset = train_test_split(X, y, test_size=0.3, random_state=3)\n",
    "    diabetesTree = DecisionTreeClassifier(criterion=\"entropy\", max_depth = 4)\n",
    "    diabetesTree.fit(X_trainset,y_trainset)\n",
    "    predTree = diabetesTree.predict(X_testset)\n",
    "    if metrics.accuracy_score(y_testset, predTree) > 0.7142857142857143:\n",
    "      maxAccuracy = metrics.accuracy_score(y_testset, predTree)\n",
    "      d1[maxAccuracy] = variablesL\n",
    "\n",
    "\n",
    "print(\"Max Accuracy is: \", maxAccuracy, \"\\nFor DecisionTree with parameters:\")\n",
    "for param in d1[max(d1)]:\n",
    "  print(\"-\", \" \", param)"
   ]
  },
  {
   "cell_type": "markdown",
   "metadata": {},
   "source": [
    "Now we have found that we can increase the accuracy of our model slightly by only considering Pregnancies, Glucose, BloodPressure, SkinThickness, and BMI.\n",
    "We will now use these features in determining the optimal Decision Tree Depth. "
   ]
  },
  {
   "cell_type": "markdown",
   "metadata": {},
   "source": [
    "#### Tree Depth Optimization- Brute Force Approach"
   ]
  },
  {
   "cell_type": "code",
   "execution_count": 33,
   "metadata": {},
   "outputs": [
    {
     "name": "stdout",
     "output_type": "stream",
     "text": [
      "Max Accuracy is:  0.7316017316017316 \n",
      "For DecisionTree with depth:  5\n"
     ]
    }
   ],
   "source": [
    "# determine length of best performing decision tree\n",
    "d2 = {}\n",
    "for i in range(1,10):\n",
    "  X = df[['Pregnancies', 'Glucose', 'BloodPressure', 'SkinThickness', 'BMI']]\n",
    "  y = df['Outcome']\n",
    "  X_trainset, X_testset, y_trainset, y_testset = train_test_split(X, y, test_size=0.3, random_state=3)\n",
    "  diabetesTree = DecisionTreeClassifier(criterion=\"entropy\", max_depth = i)\n",
    "  diabetesTree.fit(X_trainset,y_trainset)\n",
    "  predTree = diabetesTree.predict(X_testset)\n",
    "  if metrics.accuracy_score(y_testset, predTree) > maxAccuracy:\n",
    "      maxAccuracy = metrics.accuracy_score(y_testset, predTree)\n",
    "      d2[maxAccuracy] = i\n",
    "print(\"Max Accuracy is: \", maxAccuracy, \"\\nFor DecisionTree with depth: \", d2[max(d2)])\n",
    "\n"
   ]
  },
  {
   "cell_type": "markdown",
   "metadata": {},
   "source": [
    "We have now found that our maximum accuracy with using a decision tree is ~0.731 when providing a depth of 5 and using the features: Pregnancies, Glucose, BloodPressure, SkinThickness, and BMI. Thus, the accuracy was increased by ~0.02 by tuning the depths and parameters we used."
   ]
  },
  {
   "cell_type": "markdown",
   "metadata": {},
   "source": [
    "#### Extending Our Decision Tree\n",
    "Now we may consider extending our decision tree approach by implementing a Random Forest Classifier and comparing their accuracies."
   ]
  },
  {
   "cell_type": "code",
   "execution_count": 43,
   "metadata": {},
   "outputs": [],
   "source": [
    "# Here will once again not scale our data\n",
    "X = df[['Pregnancies', 'Glucose', 'BloodPressure', 'SkinThickness', 'Insulin', 'BMI', 'DiabetesPedigreeFunction', 'Age']].values"
   ]
  },
  {
   "cell_type": "code",
   "execution_count": 50,
   "metadata": {},
   "outputs": [
    {
     "data": {
      "text/plain": [
       "0.740909090909091"
      ]
     },
     "execution_count": 50,
     "metadata": {},
     "output_type": "execute_result"
    }
   ],
   "source": [
    "i = 0\n",
    "sum = 0\n",
    "while i < 20:\n",
    "  X_trainset, X_testset, y_trainset, y_testset = train_test_split(X, y, test_size=0.3, random_state=3)\n",
    "  forest = RandomForestClassifier().fit(X_trainset, y_trainset)\n",
    "  yPredicted = forest.predict(X_testset)\n",
    "  sum += metrics.accuracy_score(y_testset, yPredicted)\n",
    "  i+=1\n",
    "sum/20"
   ]
  },
  {
   "cell_type": "markdown",
   "metadata": {},
   "source": [
    "We can now see that by using a Random Forest for classification, the accuracy improve from ~0.731 to ~0.740.\n",
    "\n",
    "\n",
    "Now we will try to optimize our Random Forest by Feature Selection:"
   ]
  },
  {
   "cell_type": "code",
   "execution_count": 56,
   "metadata": {},
   "outputs": [
    {
     "name": "stdout",
     "output_type": "stream",
     "text": [
      "Max Accuracy is:  0.7619047619047619 \n",
      "For Random Forest with parameters:\n",
      "-   Glucose\n",
      "-   BloodPressure\n",
      "-   BMI\n",
      "-   DiabetesPedigreeFunction\n",
      "-   Age\n"
     ]
    }
   ],
   "source": [
    "dLRF = {}\n",
    "maxAccuracyRF = 0.0\n",
    "\n",
    "for i in range(len(allCombos)):\n",
    "  for variablesL in allCombos[i]:\n",
    "    X =  df[list(variablesL)]\n",
    "    y = df['Outcome']\n",
    "    X_trainset, X_testset, y_trainset, y_testset = train_test_split(X, y, test_size=0.3, random_state=3)\n",
    "    forest = RandomForestClassifier().fit(X_trainset, y_trainset)\n",
    "    yPredicted = forest.predict(X_testset)\n",
    "    score = metrics.accuracy_score(y_testset, yPredicted)\n",
    "    \n",
    "    if score > maxAccuracyRF:\n",
    "      maxAccuracyRF = score\n",
    "      dLRF[maxAccuracyRF] = variablesL\n",
    "print(\"Max Accuracy is: \", maxAccuracyRF, \"\\nFor Random Forest with parameters:\")\n",
    "for param in dLRF[max(dLRF)]:\n",
    "  print(\"-\", \" \", param)"
   ]
  },
  {
   "cell_type": "markdown",
   "metadata": {},
   "source": [
    "Here we were able to slightly increase our models accuracy from ~0.740 to ~0.76. Yet each time the model is ran, a different set of variables seems to produce the maximum accuracy. Thus, it is inconclusive at this time for which set of variables best optimize the Random Forest."
   ]
  },
  {
   "cell_type": "markdown",
   "metadata": {},
   "source": [
    "### Logistic Regression Tuning\n"
   ]
  },
  {
   "cell_type": "code",
   "execution_count": 54,
   "metadata": {},
   "outputs": [
    {
     "name": "stdout",
     "output_type": "stream",
     "text": [
      "Max Accuracy is:  0.7489177489177489 \n",
      "For Logistic Regression with parameters:\n",
      "-   Pregnancies\n",
      "-   Glucose\n",
      "-   BloodPressure\n",
      "-   BMI\n",
      "-   DiabetesPedigreeFunction\n"
     ]
    }
   ],
   "source": [
    "# determine best features to use in model\n",
    "dLR = {}\n",
    "maxAccuracyLR = 0.0\n",
    "\n",
    "for i in range(len(allCombos)):\n",
    "  for variablesL in allCombos[i]:\n",
    "    X =  df[list(variablesL)]\n",
    "    y = df['Outcome']\n",
    "    X = preprocessing.StandardScaler().fit(X).transform(X)\n",
    "    X_trainset, X_testset, y_trainset, y_testset = train_test_split(X, y, test_size=0.3, random_state=3)\n",
    "    LR = LogisticRegression(C=0.01, solver='liblinear').fit(X_trainset,y_trainset)\n",
    "    yPredicted = LR.predict(X_testset)\n",
    "    score = metrics.accuracy_score(y_testset, yPredicted)\n",
    "    \n",
    "    if score > maxAccuracyLR:\n",
    "      maxAccuracyLR = score\n",
    "      dLR[maxAccuracyLR] = variablesL\n",
    "print(\"Max Accuracy is: \", maxAccuracyLR, \"\\nFor Logistic Regression with parameters:\")\n",
    "for param in dLR[max(dLR)]:\n",
    "  print(\"-\", \" \", param)\n",
    "\n"
   ]
  },
  {
   "cell_type": "markdown",
   "metadata": {},
   "source": [
    "### Model Evaluation Summary"
   ]
  },
  {
   "cell_type": "markdown",
   "metadata": {},
   "source": [
    "##### Logistic Regression\n",
    "Max Accuracy is:  ~0.7489177489177489 \n",
    "For Logistic Regression with parameters:\n",
    "-   Pregnancies\n",
    "-   Glucose\n",
    "-   BloodPressure\n",
    "-   BMI\n",
    "-   DiabetesPedigreeFunction\n",
    "##### Decision Tree\n",
    "Max Accuracy is:  ~0.7316017316017316  \n",
    "For DecisionTree with parameters:\n",
    "-   Depth: 5\n",
    "-   Pregnancies\n",
    "-   Glucose\n",
    "-   BloodPressure\n",
    "-   SkinThickness\n",
    "-   BMI\n",
    "\n",
    "##### Random Forest\n",
    "Max Accuracy is:  ~0.76\n",
    "For Random Forest with parameters:\n",
    "-  Undetermined"
   ]
  },
  {
   "cell_type": "markdown",
   "metadata": {},
   "source": [
    "##### Conclusion\n",
    "\n",
    "From our modeling we can see that at times, the Random Forest is the best means of classifying Female Pima Native Americans as diabetic or non-diabetic. Where this Random Forest model fails is that we may not properly conclude the final accuracy score when selecting specific features. Without feature selection, the Random Forest model has an average accuracy score of about 0.740. Thus, the Random Forest is clearly a more accurate model than the optimized Decision Tree model. Yet, it is not so simple to determine if the Random Forest is more accurate than the Logistic Regression model. \n",
    "\n",
    "After the Logistic Regression model was optimized, the accuracy was noted to consistently be at ~0.7489. Comparing this accuarcy of the optimized Logistic Regression model with the attempted optimization of the Random Forest, the Logistic Regression model was more consistent since the Random Forest model may have results anywhere within the bounds of 0.700 to 0.765 as far as our testing was conducted.\n",
    "\n",
    "Therefore, while all of the models have an acceptable accuracy rate of >70%, the optimized Logistic Regression model seems to be the best model for classifying Female Pima Native Americans as diabetic or non-diabetic. Future study may be conducted in determining the best features to select in optimizing the Random Forest model in order to create more consistent resulting accuracy rates. However, until the accuracy of the Random Forest is made more consistent, the Logistic Regression model seems best equipped for classification of this population."
   ]
  },
  {
   "cell_type": "markdown",
   "metadata": {},
   "source": []
  }
 ],
 "metadata": {
  "kernelspec": {
   "display_name": "Python 3",
   "language": "python",
   "name": "python3"
  },
  "language_info": {
   "codemirror_mode": {
    "name": "ipython",
    "version": 3
   },
   "file_extension": ".py",
   "mimetype": "text/x-python",
   "name": "python",
   "nbconvert_exporter": "python",
   "pygments_lexer": "ipython3",
   "version": "3.9.13"
  },
  "orig_nbformat": 4
 },
 "nbformat": 4,
 "nbformat_minor": 2
}
